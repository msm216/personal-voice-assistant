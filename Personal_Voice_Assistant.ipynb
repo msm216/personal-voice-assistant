{
 "cells": [
  {
   "cell_type": "code",
   "execution_count": null,
   "metadata": {},
   "outputs": [],
   "source": [
    "## Personal Voice Assistant ##\n",
    "## https://www.geeksforgeeks.org/personal-voice-assistant-in-python/ ##"
   ]
  },
  {
   "cell_type": "markdown",
   "metadata": {},
   "source": [
    "******************************************************************************"
   ]
  },
  {
   "cell_type": "code",
   "execution_count": null,
   "metadata": {},
   "outputs": [],
   "source": [
    "# Installation"
   ]
  },
  {
   "cell_type": "code",
   "execution_count": null,
   "metadata": {},
   "outputs": [],
   "source": [
    "pip install gTTS"
   ]
  },
  {
   "cell_type": "code",
   "execution_count": null,
   "metadata": {},
   "outputs": [],
   "source": [
    "pip install SpeechRecognition"
   ]
  },
  {
   "cell_type": "code",
   "execution_count": null,
   "metadata": {},
   "outputs": [],
   "source": [
    "pip install selenium"
   ]
  },
  {
   "cell_type": "code",
   "execution_count": null,
   "metadata": {},
   "outputs": [],
   "source": [
    "pip install wolframalpha"
   ]
  },
  {
   "cell_type": "code",
   "execution_count": null,
   "metadata": {},
   "outputs": [],
   "source": [
    "pip install playsound"
   ]
  },
  {
   "cell_type": "code",
   "execution_count": null,
   "metadata": {},
   "outputs": [],
   "source": [
    "pip install C:\\Users\\msm21\\PycharmProjects\\Personal_Voice_Assistant\\PyAudio-0.2.11-cp38-cp38-win_amd64.whl"
   ]
  },
  {
   "cell_type": "code",
   "execution_count": null,
   "metadata": {},
   "outputs": [],
   "source": [
    "pip install PyAudio"
   ]
  },
  {
   "cell_type": "markdown",
   "metadata": {},
   "source": [
    "******************************************************************************"
   ]
  },
  {
   "cell_type": "code",
   "execution_count": 1,
   "metadata": {},
   "outputs": [],
   "source": [
    "import os    # to save/open files \n",
    "import speech_recognition as sr  \n",
    "import playsound    # to play saved mp3 file \n",
    "from gtts import gTTS    # google text to speech \n",
    "import wolframalpha    # to calculate strings into formula \n",
    "from selenium import webdriver    # to control browser operations "
   ]
  },
  {
   "cell_type": "code",
   "execution_count": 2,
   "metadata": {},
   "outputs": [],
   "source": [
    "num = 1\n",
    "\n",
    "# read the given text (string) with help of Google Text To Speech\n",
    "def assistant_speaks(text):\n",
    "    global num\n",
    "\n",
    "    # num to rename every audio file\n",
    "    # with different name to remove ambiguity\n",
    "    num += 1\n",
    "    print(\"PerSon says: \", text)\n",
    "\n",
    "    toSpeak = gTTS(text=text, lang=\"en\", slow=False)\n",
    "    # saving the audio file given by google text to speech\n",
    "    file = str(num) + \".mp3\"\n",
    "    toSpeak.save(file)\n",
    "\n",
    "    # playsound package is used to play the same file.\n",
    "    playsound.playsound(file, True)\n",
    "    os.remove(file)\n",
    "\n",
    "\n",
    "# recognize the audio and turn it into string\n",
    "def get_audio():\n",
    "    rObject = sr.Recognizer()\n",
    "    empty = \"\"\n",
    "\n",
    "    with sr.Microphone() as source:\n",
    "        print(\"Speak...\")\n",
    "\n",
    "        # recording the audio using speech recognition, limit 5 secs\n",
    "        audio = rObject.listen(source, phrase_time_limit=5)\n",
    "    print(\"Stop.\")\n",
    "\n",
    "    try:\n",
    "        text = rObject.recognize_google(audio, language=\"en-US\")    # string\n",
    "        print(\"You said: \", text)\n",
    "        return text\n",
    "    \n",
    "    except:\n",
    "        assistant_speaks(\"Could not understand your command!\")\n",
    "        return empty\n",
    "\n",
    "    \n",
    "# open the txt files\n",
    "def open_txt(string):\n",
    "    text = str(string).lower()\n",
    "    assistant_speaks(\"Opening Text Editor...\")\n",
    "\n",
    "    # open file\n",
    "    if \"parameter\" in text:\n",
    "        os.startfile(\"parameter.txt\")\n",
    "    elif \"model\" in text:\n",
    "        os.startfile(\"models.txt\")\n",
    "    else:\n",
    "        os.startfile(\"parameter.txt\")\n",
    "        os.startfile(\"models.txt\")\n",
    "    return\n",
    "\n",
    "\n",
    "# find files of certain type under the current directory\n",
    "def find_file(path, keyword):\n",
    "    # list of all files\n",
    "    lof = os.listdir(path)\n",
    "    k = str(keyword)\n",
    "    result = []\n",
    "\n",
    "    for f in lof:\n",
    "        if k in f:\n",
    "            result.append(f)\n",
    "    return result\n",
    "\n",
    "\n",
    "# determine if an ordinal number has been declared\n",
    "def get_key(string, dic):\n",
    "    text = str(string).lower()\n",
    "\n",
    "    try:\n",
    "        # key = int\n",
    "        value = []\n",
    "        lok = list(dic.keys())\n",
    "        lov = list(dic.values())\n",
    "\n",
    "        for v in lov:\n",
    "            for item in v:\n",
    "                if item in text:\n",
    "                    value = v\n",
    "        key = lok[lov.index(value)]\n",
    "\n",
    "    # catch ValueError when out of range\n",
    "    except ValueError:\n",
    "        key = 0\n",
    "\n",
    "    return key\n",
    "\n"
   ]
  },
  {
   "cell_type": "code",
   "execution_count": 4,
   "metadata": {},
   "outputs": [
    {
     "name": "stdout",
     "output_type": "stream",
     "text": [
      "Speak...\n",
      "Stop.\n",
      "You said:  whenever you're saying show me the time\n",
      "<class 'str'>\n"
     ]
    }
   ],
   "source": [
    "b = get_audio().lower()\n",
    "print(type(b))"
   ]
  },
  {
   "cell_type": "code",
   "execution_count": null,
   "metadata": {},
   "outputs": [],
   "source": [
    "# 无法把one或first转换为1\n",
    "output_audio = get_audio()\n",
    "text = str(output_audio).lower()\n",
    "assistant_speaks(text)\n",
    "print(output_audio)\n",
    "print(type(output_audio))"
   ]
  },
  {
   "cell_type": "code",
   "execution_count": null,
   "metadata": {},
   "outputs": [],
   "source": [
    "d = {1:[\"one\",\"1\",\"first\"], 2:[\"two\",\"2\",\"second\"], 3:[\"three\",\"3\",\"third\"]}\n",
    "print(d[2])\n",
    "print(d.get(1))"
   ]
  },
  {
   "cell_type": "code",
   "execution_count": null,
   "metadata": {},
   "outputs": [],
   "source": [
    "list(d.values())"
   ]
  },
  {
   "cell_type": "code",
   "execution_count": null,
   "metadata": {},
   "outputs": [],
   "source": [
    "list(d.keys())"
   ]
  },
  {
   "cell_type": "code",
   "execution_count": null,
   "metadata": {},
   "outputs": [],
   "source": []
  },
  {
   "cell_type": "code",
   "execution_count": null,
   "metadata": {},
   "outputs": [],
   "source": [
    "d = {1:[\"one\",\"1\",\"first\"], 2:[\"two\",\"2\",\"second\"], 3:[\"three\",\"3\",\"third\"]}\n",
    "text = \"read the third line\"\n",
    "k = get_key(text, d)    # if ValueError, key=0\n",
    "print(k)"
   ]
  },
  {
   "cell_type": "code",
   "execution_count": null,
   "metadata": {},
   "outputs": [],
   "source": []
  },
  {
   "cell_type": "code",
   "execution_count": null,
   "metadata": {},
   "outputs": [],
   "source": [
    "f = open(\"C:\\\\Users\\\\msm21\\\\ML_Übungen\\\\Sprache_Erkennung\\\\p_recommend.txt\",\"r\")\n",
    "print(f.readline().strip('\\n'))"
   ]
  },
  {
   "cell_type": "code",
   "execution_count": null,
   "metadata": {},
   "outputs": [],
   "source": []
  },
  {
   "cell_type": "code",
   "execution_count": null,
   "metadata": {},
   "outputs": [],
   "source": [
    "## https://blog.csdn.net/u012609509/article/details/72911564 ##\n",
    "## usage of while-statement ##"
   ]
  },
  {
   "cell_type": "code",
   "execution_count": null,
   "metadata": {},
   "outputs": [],
   "source": [
    "file = open('p_recommend.txt')\n",
    "data = file.read()\n",
    "file.close()"
   ]
  },
  {
   "cell_type": "code",
   "execution_count": null,
   "metadata": {},
   "outputs": [],
   "source": [
    "try:\n",
    "    f = open('p_recommend.txt')\n",
    "except:\n",
    "    print('fail to open')\n",
    "    exit(-1)\n",
    "try:\n",
    "    do something\n",
    "except:\n",
    "    do something\n",
    "finally:\n",
    "    f.close()"
   ]
  },
  {
   "cell_type": "code",
   "execution_count": null,
   "metadata": {},
   "outputs": [],
   "source": [
    "with open('p_recommend.txt') as file:\n",
    "    data = file.read()"
   ]
  },
  {
   "cell_type": "code",
   "execution_count": null,
   "metadata": {},
   "outputs": [],
   "source": []
  },
  {
   "cell_type": "code",
   "execution_count": null,
   "metadata": {},
   "outputs": [],
   "source": [
    "## https://zhuanlan.zhihu.com/p/42784651 ##\n",
    "## read txt-file ##"
   ]
  },
  {
   "cell_type": "code",
   "execution_count": null,
   "metadata": {},
   "outputs": [],
   "source": [
    "# read（）方法表示一次读取文件全部内容，该方法返回字符串。X\n",
    "f = open('parameter.txt')\n",
    "lines = f.read()\n",
    "#print(lines)\n",
    "#print(type(lines))\n",
    "assistant_speaks(lines)\n",
    "f.close()"
   ]
  },
  {
   "cell_type": "code",
   "execution_count": null,
   "metadata": {},
   "outputs": [],
   "source": [
    "# readline（）方法每次读出一行内容，所以，读取时占用内存小，比较适合大文件，该方法返回一个字符串对象。\n",
    "f = open('parameter.txt')\n",
    "line = f.readline()\n",
    "while line:\n",
    "    #print (line)\n",
    "    assistant_speaks(line)\n",
    "    #print(type(line))\n",
    "    line = f.readline()\n",
    "f.close()"
   ]
  },
  {
   "cell_type": "code",
   "execution_count": null,
   "metadata": {},
   "outputs": [],
   "source": [
    "# readlines()方法读取整个文件所有行，保存在一个列表(list)变量中，每次读取一行，但读取大文件会比较占内存。  <----- used!!!\n",
    "f = open('parameter.txt')\n",
    "lines = f.readlines()    # list\n",
    "for line in lines:\n",
    "    #print (line)\n",
    "    #print(type(line))\n",
    "    assistant_speaks(line.strip('\\n'))\n",
    "f.close()"
   ]
  },
  {
   "cell_type": "code",
   "execution_count": null,
   "metadata": {},
   "outputs": [],
   "source": [
    "print(lines[0])\n",
    "print(len(lines))"
   ]
  },
  {
   "cell_type": "code",
   "execution_count": null,
   "metadata": {},
   "outputs": [],
   "source": [
    "# read certain row   <----------------- and this!!!\n",
    "f = open('parameter.txt')\n",
    "n = int(2)\n",
    "lines = f.readlines()\n",
    "assistant_speaks(lines[n].strip('\\n'))\n",
    "f.close()"
   ]
  },
  {
   "cell_type": "code",
   "execution_count": null,
   "metadata": {},
   "outputs": [],
   "source": [
    "# 不用read方法\n",
    "f = open('parameter.txt')\n",
    "#print (type(f))\n",
    "for line in f:\n",
    "    #print (line)\n",
    "    #print(type(line))\n",
    "    assistant_speaks(line)\n",
    "f.close()"
   ]
  },
  {
   "cell_type": "code",
   "execution_count": null,
   "metadata": {},
   "outputs": [],
   "source": [
    "# 搜索文件位置\n",
    "p = os.path.abspath('targetfile.txt')\n",
    "print(p)\n",
    "fi = open(p,\"r\")\n",
    "print(fi.readline().strip('\\n'))"
   ]
  },
  {
   "cell_type": "code",
   "execution_count": null,
   "metadata": {},
   "outputs": [],
   "source": []
  },
  {
   "cell_type": "code",
   "execution_count": null,
   "metadata": {},
   "outputs": [],
   "source": []
  },
  {
   "cell_type": "code",
   "execution_count": null,
   "metadata": {},
   "outputs": [],
   "source": [
    "# 已被集成，见 read_txt\n",
    "def read_m():    \n",
    "    f = open('models.txt')\n",
    "    lines = f.readlines()\n",
    "    \n",
    "    for line in lines:\n",
    "        assistant_speaks(line.strip('\\n'))\n",
    "    f.close()\n",
    "    return\n"
   ]
  },
  {
   "cell_type": "code",
   "execution_count": null,
   "metadata": {},
   "outputs": [],
   "source": [
    "# 已被集成，见 read_txt\n",
    "def read_p(input):\n",
    "    text = str(input).lower()\n",
    "    f = open('parameter.txt')\n",
    "    \n",
    "    # read the whole content\n",
    "    if \"all\" in text or \"whole\" in text or \"entire\" in text :\n",
    "        lines = f.readlines()\n",
    "        for line in lines:\n",
    "            assistant_speaks(line.strip('\\n'))\n",
    "        f.close()\n",
    "        return\n",
    "    \n",
    "    # read certain row of parameter\n",
    "    else :\n",
    "        # dictionary of keywords, free to define ----> ###...how to generate automatically?...###\n",
    "        d = {1:[\"one\",\"1\",\"first\"], 2:[\"two\",\"2\",\"second\"], 3:[\"three\",\"3\",\"third\"]}\n",
    "        # list of all lines of the txt\n",
    "        lines = f.readlines()\n",
    "        n = len(lines)\n",
    "        \n",
    "        speach = \"\"\"There are {} groups of parameter available, which one\n",
    "                 would you like to check out?\"\"\".format(n)\n",
    "        assistant_speaks(speach)\n",
    "            \n",
    "        ans = get_audio()\n",
    "        # key = 0 if out of range, otherwise return the corresponding key\n",
    "        key = get_key(ans, d)\n",
    "            \n",
    "        if key == 0 :\n",
    "            assistant_speaks(\"Out of search scope, do you want me to open the file?\")\n",
    "            ans = get_audio()\n",
    "            if \"yes\" in str(ans) or \"yeah\" in str(ans):\n",
    "                open_txt(ans)\n",
    "                return\n",
    "            else :\n",
    "                return 0   # exit\n",
    "        else :\n",
    "            n = int(key)-1\n",
    "            assistant_speaks(lines[n].strip('\\n'))\n",
    "            f.close()\n",
    "            return\n"
   ]
  },
  {
   "cell_type": "code",
   "execution_count": null,
   "metadata": {},
   "outputs": [],
   "source": [
    "read_p(\"read the fourth line of parameter\")    # solved"
   ]
  },
  {
   "cell_type": "code",
   "execution_count": null,
   "metadata": {},
   "outputs": [],
   "source": [
    "read_p(\"parameter\")"
   ]
  },
  {
   "cell_type": "code",
   "execution_count": null,
   "metadata": {},
   "outputs": [],
   "source": []
  },
  {
   "cell_type": "code",
   "execution_count": null,
   "metadata": {},
   "outputs": [],
   "source": [
    "read_txt()"
   ]
  },
  {
   "cell_type": "code",
   "execution_count": null,
   "metadata": {},
   "outputs": [],
   "source": []
  },
  {
   "cell_type": "code",
   "execution_count": null,
   "metadata": {},
   "outputs": [],
   "source": [
    "open_txt(0)"
   ]
  },
  {
   "cell_type": "code",
   "execution_count": null,
   "metadata": {},
   "outputs": [],
   "source": [
    "def open_app():\n",
    "    "
   ]
  },
  {
   "cell_type": "code",
   "execution_count": null,
   "metadata": {},
   "outputs": [],
   "source": []
  },
  {
   "cell_type": "code",
   "execution_count": null,
   "metadata": {},
   "outputs": [],
   "source": [
    "path = os.getcwd()    #获取当前工作目录路径\n",
    "content = os.listdir(path)    # 当前目录内文件的列表\n",
    "each = content[0]\n",
    "ep = path+os.sep+each\n",
    "print(ep)\n",
    "print(\"If in the current directory:\",os.path.isdir(path))"
   ]
  },
  {
   "cell_type": "code",
   "execution_count": null,
   "metadata": {},
   "outputs": [],
   "source": []
  },
  {
   "cell_type": "code",
   "execution_count": null,
   "metadata": {},
   "outputs": [],
   "source": [
    "path = os.getcwd()\n",
    "keyword = 'txt'\n",
    "result = find_file(path, keyword)    # list\n",
    "names = [name.replace('.txt', '') for name in result]\n",
    "n = len(names)\n",
    "print(names)\n",
    "print(n)\n",
    "speach = \"\"\"There are {} files available, {}, which one would you like to check out?\"\"\".format(n, names)\n",
    "print(speach)\n",
    "#assistant_speaks(speach)"
   ]
  },
  {
   "cell_type": "code",
   "execution_count": 7,
   "metadata": {},
   "outputs": [
    {
     "name": "stdout",
     "output_type": "stream",
     "text": [
      "read\n",
      "all\n",
      "models\n",
      "and\n",
      "parameter\n"
     ]
    }
   ],
   "source": [
    "s0 = \"read all models and parameter\"\n",
    "l = s0.split()\n",
    "for w in l:\n",
    "    print(w)"
   ]
  },
  {
   "cell_type": "code",
   "execution_count": 2,
   "metadata": {},
   "outputs": [
    {
     "name": "stdout",
     "output_type": "stream",
     "text": [
      "String 0\n",
      "not all parameter\n",
      "String 1\n",
      "all parameter\n",
      "String 2\n",
      "no parameter\n"
     ]
    }
   ],
   "source": [
    "# check the article based on targeted keyword\n",
    "\n",
    "s0 = \"read all models and parameter\"\n",
    "s1 = \"read the models and all parameters\"\n",
    "s2 = \"read the models\"\n",
    "\n",
    "sl = [s0, s1, s2]\n",
    "n = 0\n",
    "\n",
    "def art_check (string, keyword) :\n",
    "    \n",
    "    if \"parameter\" in string :\n",
    "        \n",
    "        # splitt the string and return a list\n",
    "        l = string.split()\n",
    "        # find target position\n",
    "        for w in l :\n",
    "            if keyword in w :\n",
    "                i = l.index(w)\n",
    "\n",
    "        if \"all\" in  l[i-2:i] :\n",
    "            print(\"all\",keyword)\n",
    "        else :\n",
    "            print(\"not all\",keyword)\n",
    "                \n",
    "    else :\n",
    "        print(\"no\",keyword)\n",
    "\n",
    "\n",
    "for s in sl :\n",
    "    \n",
    "    print(\"String {}\".format(n))\n",
    "    art_check(s, \"parameter\")\n",
    "    n += 1\n"
   ]
  },
  {
   "cell_type": "code",
   "execution_count": null,
   "metadata": {},
   "outputs": [],
   "source": []
  },
  {
   "cell_type": "code",
   "execution_count": null,
   "metadata": {},
   "outputs": [],
   "source": [
    "# execution logic of commands\n",
    "\n",
    "def test (string, n):\n",
    "    text = str(string).lower()\n",
    "    count = 0\n",
    "    \n",
    "    while count <= n+1 :\n",
    "        \n",
    "        if \"both\" in text or (\"a\" in text and \"b\" in text) :\n",
    "            print(\"doing AB\")\n",
    "            return\n",
    "        elif \"a\" in text :\n",
    "            print(\"doing A\")\n",
    "            return\n",
    "        elif \"b\" in text :\n",
    "            print(\"doing B\")\n",
    "            return\n",
    "        else :\n",
    "            count += 1\n",
    "            if count < n+1 :\n",
    "                print(\"You want A or B?\")\n",
    "                text = input()\n",
    "            else :\n",
    "                pass\n",
    "        \n",
    "    else :\n",
    "        print(\"Nothing can do!\")\n",
    "\n",
    "\n",
    "test(\"Errrrr\", 2)"
   ]
  },
  {
   "cell_type": "code",
   "execution_count": null,
   "metadata": {},
   "outputs": [],
   "source": [
    "def toolong() :\n",
    "    text = \"abcdefg\"\n",
    "    count = 0\n",
    "\n",
    "    while len(text)>=4 :\n",
    "        \n",
    "        print(text)\n",
    "        print(\"Too long!\")\n",
    "        text = input()\n",
    "        count += 1\n",
    "\n",
    "    else :\n",
    "        print(\"It's fine now.\")\n",
    "\n",
    "toolong()"
   ]
  },
  {
   "cell_type": "code",
   "execution_count": null,
   "metadata": {},
   "outputs": [],
   "source": []
  },
  {
   "cell_type": "code",
   "execution_count": null,
   "metadata": {},
   "outputs": [],
   "source": [
    "f = open('parameter.txt')\n",
    "lines = f.readlines()\n",
    "nl = len(lines)\n",
    "nl"
   ]
  },
  {
   "cell_type": "code",
   "execution_count": 67,
   "metadata": {},
   "outputs": [],
   "source": [
    "# read the txt-files according to different commands\n",
    "def read_txt(string, n=2):\n",
    "    text = str(string).lower()\n",
    "\n",
    "    # check out txt-files under the current directory\n",
    "    path = os.getcwd()\n",
    "    keyword = \"txt\"\n",
    "    # list of txt files\n",
    "    lof = find_file(path, keyword)\n",
    "    names = [name.replace(\".txt\", \"\") for name in lof]\n",
    "    # number of txt files\n",
    "    nf = len(lof)\n",
    "\n",
    "    count_0 = 0\n",
    "    count_1 = 0\n",
    "    count_2 = 0\n",
    "\n",
    "    while count_0 <= n + 1:\n",
    "\n",
    "        if \"exit\" in text or \"bye\" in text or \"sleep\" in text:\n",
    "            assistant_speaks(\"Ending the process...\")\n",
    "            return\n",
    "\n",
    "        if \"both\" in text:  # or (\"model\" in text and \"parameter\" in text)\n",
    "\n",
    "            # read the entire content of models\n",
    "            f1 = open(\"models.txt\")\n",
    "            lines = f1.readlines()\n",
    "            for line in lines:\n",
    "                assistant_speaks(line.strip(\"\\n\"))\n",
    "            f1.close()\n",
    "            # read the entire content of parameters\n",
    "            f2 = open(\"parameter.txt\")\n",
    "            lines = f2.readlines()\n",
    "            for line in lines:\n",
    "                assistant_speaks(line.strip(\"\\n\"))\n",
    "            f2.close()\n",
    "            return\n",
    "\n",
    "        if \"model\" in text:\n",
    "\n",
    "            # read the whole content of models\n",
    "            f = open(\"models.txt\")\n",
    "            lines = f.readlines()\n",
    "            for line in lines:\n",
    "                assistant_speaks(line.strip(\"\\n\"))\n",
    "            f.close()\n",
    "            return\n",
    "\n",
    "        if \"parameter\" in text:\n",
    "\n",
    "            # dictionary of ordinal number and keywords\n",
    "            # ##########################################\n",
    "            # ###...how to generate automatically?...###\n",
    "            # ##########################################\n",
    "            d = {\n",
    "                1: [\"one\", \"1\", \"1st\", \"first\"],\n",
    "                2: [\"two\", \"2\", \"2nd\", \"second\"],\n",
    "                3: [\"three\", \"3\", \"3rd\", \"third\"],\n",
    "                4: [\"four\", \"4\", \"4th\", \"fourth\"],\n",
    "            }\n",
    "\n",
    "            # load the file and get the basic information\n",
    "            f = open(\"parameter.txt\")\n",
    "            lines = f.readlines()\n",
    "            nl = len(lines)\n",
    "\n",
    "            while count_1 <= n + 1:\n",
    "                key = get_key(text, d)\n",
    "\n",
    "                if \"exit\" in text or \"bye\" in text or \"sleep\" in text:\n",
    "                    assistant_speaks(\"Ending the process...\")\n",
    "                    return\n",
    "\n",
    "                # ########################################################################\n",
    "                # ###...judge \"all model and parameter\" / \"model and all parameter\"?...###\n",
    "                # ########################################################################\n",
    "                if \"all\" in text or \"entire\" in text:\n",
    "\n",
    "                    # read the whole content of parameters\n",
    "                    f = open(\"parameter.txt\")\n",
    "                    lines = f.readlines()\n",
    "                    for line in lines:\n",
    "                        assistant_speaks(line.strip(\"\\n\"))\n",
    "                    f.close()\n",
    "                    return\n",
    "\n",
    "                # key ==0, no ordinal number has been declared\n",
    "                elif key == 0:\n",
    "\n",
    "                    count_1 += 1\n",
    "                    if count_1 < n + 1:\n",
    "                        speach_1 = \"\"\"There are {} groups of parameter available, which one would you like to check out?\"\"\".format(\n",
    "                            nl\n",
    "                        )\n",
    "                        assistant_speaks(speach_1)\n",
    "                        text = get_audio().lower()    # <------------------------- audio input\n",
    "                        #text = \"fourth\"\n",
    "                    else:\n",
    "                        pass\n",
    "\n",
    "\n",
    "                # when an ordinal number has been declared\n",
    "                else:\n",
    "\n",
    "                    if key <= nl:\n",
    "\n",
    "                        # read a certain row of parameter\n",
    "                        key = int(key) - 1\n",
    "                        assistant_speaks(lines[key].strip(\"\\n\"))\n",
    "                        f.close()\n",
    "                        return\n",
    "\n",
    "                    else:\n",
    "\n",
    "                        while count_2 <= n + 1:\n",
    "                            key = get_key(text, d)\n",
    "\n",
    "                            if \"exit\" in text or \"bye\" in text or \"sleep\" in text:\n",
    "                                assistant_speaks(\"Ending the process...\")\n",
    "                                return\n",
    "\n",
    "                            if key <= nl:\n",
    "                                break\n",
    "                            else:\n",
    "                                count_2 += 1\n",
    "                                if count_2 < n + 1:\n",
    "                                    speach_2 = \"\"\"Out of search scope, there are {} groups of parameter available, please try again.\"\"\".format(\n",
    "                                        nl\n",
    "                                    )\n",
    "                                    assistant_speaks(speach_2)\n",
    "                                    text = get_audio().lower()    # <------------------------- audio input\n",
    "                                    #text = \"third\"\n",
    "                                else:\n",
    "                                    pass\n",
    "\n",
    "                        else:\n",
    "\n",
    "                            speach_3 = \"\"\"Can not execute your command, do you want me to open the file?\"\"\"\n",
    "                            assistant_speaks(speach_3)\n",
    "                            ans = get_audio().lower()    # <------------------------- audio input\n",
    "                            #ans = \"no\"\n",
    "                            if \"yes\" in ans:\n",
    "                                open_txt(\"parameter.txt\")\n",
    "                                return\n",
    "                            else:\n",
    "                                assistant_speaks(\"Ending the process...\")\n",
    "                                return\n",
    "\n",
    "            else:  # loop 1\n",
    "                count_0 += 1\n",
    "                pass\n",
    "\n",
    "        else:\n",
    "\n",
    "            count_0 += 1\n",
    "            if count_0 < n + 1:\n",
    "                speach_0 = \"\"\"There are {} files available, {}, which one would you like to check out?\"\"\".format(\n",
    "                    nf, names\n",
    "                )\n",
    "                assistant_speaks(speach_0)\n",
    "                text = get_audio().lower()    # <------------------------- audio input\n",
    "                #text = \"parameter\"\n",
    "            else:\n",
    "                pass\n",
    "\n",
    "    else:  # loop 0\n",
    "        speach = \"\"\"Can not execute your command, ending the process...\"\"\"\n",
    "        assistant_speaks(speach)\n",
    "        return"
   ]
  },
  {
   "cell_type": "code",
   "execution_count": 6,
   "metadata": {},
   "outputs": [
    {
     "name": "stdout",
     "output_type": "stream",
     "text": [
      "PerSon says:  There are 3 groups of parameter available, which one would you like to check out?\n",
      "PerSon says:  Out of search scope, there are 3 groups of parameter available, please try again.\n",
      "PerSon says:  The third group of parameter: 2, 1000, 80, 10, 3\n"
     ]
    }
   ],
   "source": [
    "read_txt(\"read parameter\")"
   ]
  },
  {
   "cell_type": "code",
   "execution_count": null,
   "metadata": {},
   "outputs": [],
   "source": []
  },
  {
   "cell_type": "code",
   "execution_count": 64,
   "metadata": {},
   "outputs": [],
   "source": [
    "# execute actions\n",
    "def process_text(string, n=2):\n",
    "    text = str(string).lower()\n",
    "    count = 0\n",
    "    \n",
    "    while count < n + 1:\n",
    "    \n",
    "        if \"open\" in text :\n",
    "            open_txt(text)\n",
    "            return        \n",
    "\n",
    "        elif \"read\" in text :\n",
    "            read_txt(text)\n",
    "            return\n",
    "\n",
    "        elif \"path\" in text :\n",
    "            assistant_speaks(\"The file is ...\")\n",
    "            # ############################################################\n",
    "            # ### ...search in computer or do anything else you want...###\n",
    "            # ############################################################\n",
    "            return\n",
    "        \n",
    "        else:\n",
    "            count += 1\n",
    "            if count < n + 1:\n",
    "                assistant_speaks(\"Can not execute your command, please try again.\")\n",
    "                text = get_audio().lower()\n",
    "                #text = \"blabla\"\n",
    "            else:\n",
    "                pass\n",
    "    \n",
    "    else:\n",
    "        assistant_speaks(\"Can not execute your command, ending the process...\")\n",
    "        return\n"
   ]
  },
  {
   "cell_type": "code",
   "execution_count": null,
   "metadata": {},
   "outputs": [],
   "source": [
    "process_text(\"who are you\")"
   ]
  },
  {
   "cell_type": "code",
   "execution_count": null,
   "metadata": {},
   "outputs": [],
   "source": [
    "process_text(\"open model\")"
   ]
  },
  {
   "cell_type": "code",
   "execution_count": null,
   "metadata": {},
   "outputs": [],
   "source": [
    "process_text(\"read the models\")"
   ]
  },
  {
   "cell_type": "code",
   "execution_count": null,
   "metadata": {},
   "outputs": [],
   "source": [
    "process_text(\"read the third line of parameter\")"
   ]
  },
  {
   "cell_type": "code",
   "execution_count": null,
   "metadata": {},
   "outputs": [],
   "source": [
    "process_text(\"read all parameter\")"
   ]
  },
  {
   "cell_type": "code",
   "execution_count": null,
   "metadata": {},
   "outputs": [],
   "source": [
    "process_text(\"read something\")"
   ]
  },
  {
   "cell_type": "code",
   "execution_count": 65,
   "metadata": {},
   "outputs": [
    {
     "name": "stdout",
     "output_type": "stream",
     "text": [
      "PerSon says:  Can not execute your command, please try again.\n",
      "Speak...\n",
      "Stop.\n",
      "You said:  Bla Bla Bla\n",
      "PerSon says:  Can not execute your command, please try again.\n",
      "Speak...\n",
      "Stop.\n",
      "You said:  show me the path\n",
      "PerSon says:  The file is ...\n"
     ]
    }
   ],
   "source": [
    "process_text(\"blablabla\")"
   ]
  },
  {
   "cell_type": "code",
   "execution_count": null,
   "metadata": {},
   "outputs": [],
   "source": []
  },
  {
   "cell_type": "code",
   "execution_count": 72,
   "metadata": {},
   "outputs": [
    {
     "name": "stdout",
     "output_type": "stream",
     "text": [
      "PerSon says:  What can i do for you?\n",
      "Speak...\n",
      "Stop.\n",
      "You said:  read the third parameter\n",
      "PerSon says:  The third group of parameter: 2, 1000, 80, 10, 3\n"
     ]
    }
   ],
   "source": [
    "# Driver Code\n",
    "if __name__ == \"__main__\":\n",
    "\n",
    "    while True:\n",
    "        assistant_speaks(\"What can i do for you?\")\n",
    "        # turn all letters in string into lowercase\n",
    "        text = get_audio().lower()\n",
    "        \n",
    "        if \"who are you\" in text or \"what can you do\" in text :\n",
    "            speach = \"\"\"Hello, I am Person. Your personal Assistant. \n",
    "            I am here to read the parameters or models for you.\"\"\"\n",
    "            assistant_speaks(speach)\n",
    "            continue\n",
    "            \n",
    "        if \"exit\" in text or \"bye\" in text or \"sleep\" in text:\n",
    "            # only work in this loop\n",
    "            assistant_speaks(\"Ok bye\")\n",
    "            break\n",
    "            \n",
    "        if text == \"\":\n",
    "            continue\n",
    "            \n",
    "        else:\n",
    "            # calling process text to process the query\n",
    "            process_text(text)\n",
    "            break\n"
   ]
  },
  {
   "cell_type": "code",
   "execution_count": null,
   "metadata": {},
   "outputs": [],
   "source": []
  },
  {
   "cell_type": "code",
   "execution_count": null,
   "metadata": {},
   "outputs": [],
   "source": []
  },
  {
   "cell_type": "code",
   "execution_count": null,
   "metadata": {},
   "outputs": [],
   "source": []
  },
  {
   "cell_type": "markdown",
   "metadata": {},
   "source": [
    "******************************************************************************"
   ]
  },
  {
   "cell_type": "code",
   "execution_count": null,
   "metadata": {},
   "outputs": [],
   "source": [
    "## original code ##"
   ]
  },
  {
   "cell_type": "code",
   "execution_count": null,
   "metadata": {},
   "outputs": [],
   "source": [
    "num = 1\n",
    "\n",
    "# parameter: string\n",
    "def assistant_speaks(text):\n",
    "    global num\n",
    "\n",
    "    # num to rename every audio file\n",
    "    # with different name to remove ambiguity\n",
    "    num += 1\n",
    "    print(\"PerSon : \", text)\n",
    "\n",
    "    toSpeak = gTTS(text=text, lang=\"en\", slow=False)\n",
    "    # saving the audio file given by google text to speech\n",
    "    file = str(num) + \".mp3\"\n",
    "    toSpeak.save(file)\n",
    "\n",
    "    # playsound package is used to play the same file.\n",
    "    playsound.playsound(file, True)\n",
    "    os.remove(file)\n",
    "\n",
    "# parameter: speach\n",
    "def get_audio():\n",
    "    rObject = sr.Recognizer()\n",
    "    audio = \"\"\n",
    "\n",
    "    with sr.Microphone() as source:\n",
    "        print(\"Speak...\")\n",
    "\n",
    "        # recording the audio using speech recognition\n",
    "        audio = rObject.listen(source, phrase_time_limit=5)\n",
    "    print(\"Stop.\")  # limit 5 secs\n",
    "\n",
    "    try:\n",
    "\n",
    "        text = rObject.recognize_google(audio, language=\"en-US\")\n",
    "        print(\"You : \", text)\n",
    "        return text\n",
    "\n",
    "    except:\n",
    "\n",
    "        assistant_speaks(\"Could not understand your audio, PLease try again !\")\n",
    "        return 0\n",
    "\n",
    "\n",
    "def process_text(input):\n",
    "    try:\n",
    "        if \"search\" in input or \"play\" in input:\n",
    "            # a basic web crawler using selenium\n",
    "            search_web(input)\n",
    "            return\n",
    "\n",
    "        elif \"who are you\" in input or \"define yourself\" in input:\n",
    "            speak = \"\"\"Hello, I am Person. Your personal Assistant. \n",
    "            I am here to make your life easier. You can command me to perform \n",
    "            various tasks such as calculating sums or opening applications etcetra\"\"\"\n",
    "            assistant_speaks(speak)\n",
    "            return\n",
    "\n",
    "        elif \"geeksforgeeks\" in input:  # just\n",
    "            speak = (\n",
    "                \"\"\"Geeks for Geeks is the Best Online Coding Platform for learning.\"\"\"\n",
    "            )\n",
    "            assistant_speaks(speak)\n",
    "            return\n",
    "\n",
    "        elif \"open\" in input:\n",
    "\n",
    "            # another function to open\n",
    "            # different application availaible\n",
    "            open_application(input.lower())\n",
    "            return\n",
    "\n",
    "        else:\n",
    "\n",
    "            assistant_speaks(\"I can search the web for you, Do you want to continue?\")\n",
    "            ans = get_audio()\n",
    "            if \"yes\" in str(ans) or \"yeah\" in str(ans):\n",
    "                search_web(input)\n",
    "            else:\n",
    "                return\n",
    "    except:\n",
    "\n",
    "        assistant_speaks(\n",
    "            \"I don't understand, I can search the web for you, Do you want to continue?\"\n",
    "        )\n",
    "        ans = get_audio()\n",
    "        if \"yes\" in str(ans) or \"yeah\" in str(ans):\n",
    "            search_web(input)\n",
    "\n",
    "\n",
    "def search_web(input):\n",
    "    driver = webdriver.Firefox()\n",
    "    driver.implicitly_wait(1)\n",
    "    driver.maximize_window()\n",
    "\n",
    "    if \"youtube\" in input.lower():\n",
    "\n",
    "        assistant_speaks(\"Opening in youtube\")\n",
    "        indx = input.lower().split().index(\"youtube\")\n",
    "        query = input.split()[indx + 1 :]\n",
    "        driver.get(\"http://www.youtube.com/results?search_query =\" + \"+\".join(query))\n",
    "        return\n",
    "\n",
    "    elif \"wikipedia\" in input.lower():\n",
    "\n",
    "        assistant_speaks(\"Opening Wikipedia\")\n",
    "        indx = input.lower().split().index(\"wikipedia\")\n",
    "        query = input.split()[indx + 1 :]\n",
    "        driver.get(\"https://en.wikipedia.org/wiki/\" + \"_\".join(query))\n",
    "        return\n",
    "\n",
    "    else:\n",
    "\n",
    "        if \"google\" in input:\n",
    "\n",
    "            indx = input.lower().split().index(\"google\")\n",
    "            query = input.split()[indx + 1 :]\n",
    "            driver.get(\"https://www.google.com/search?q =\" + \"+\".join(query))\n",
    "\n",
    "        elif \"search\" in input:\n",
    "\n",
    "            indx = input.lower().split().index(\"google\")\n",
    "            query = input.split()[indx + 1 :]\n",
    "            driver.get(\"https://www.google.com/search?q =\" + \"+\".join(query))\n",
    "\n",
    "        else:\n",
    "\n",
    "            driver.get(\"https://www.google.com/search?q =\" + \"+\".join(input.split()))\n",
    "\n",
    "        return\n",
    "\n",
    "\n",
    "# function used to open application\n",
    "# present inside the system.\n",
    "def open_application(input):\n",
    "    if \"chrome\" in input:\n",
    "        assistant_speaks(\"Google Chrome\")\n",
    "        os.startfile(\"C:\\Program Files (x86)\\Google\\Chrome\\Application\\chrome.exe\")\n",
    "        return\n",
    "\n",
    "    elif \"firefox\" in input or \"mozilla\" in input:\n",
    "        assistant_speaks(\"Opening Mozilla Firefox\")\n",
    "        os.startfile(\"C:\\Program Files\\Mozilla Firefox\\\\firefox.exe\")\n",
    "        return\n",
    "\n",
    "    elif \"word\" in input:\n",
    "        assistant_speaks(\"Opening Microsoft Word\")\n",
    "        os.startfile(\n",
    "            \"C:\\ProgramData\\Microsoft\\Windows\\Start Menu\\Programs\\Microsoft Office 2016\\\\Word 2016.lnk\"\n",
    "        )\n",
    "        return\n",
    "\n",
    "    elif \"excel\" in input:\n",
    "        assistant_speaks(\"Opening Microsoft Excel\")\n",
    "        os.startfile(\n",
    "            \"C:\\ProgramData\\Microsoft\\Windows\\Start Menu\\Programs\\Microsoft Office 2016\\\\Excel 2016.lnk\"\n",
    "        )\n",
    "        return\n",
    "\n",
    "    else:\n",
    "\n",
    "        assistant_speaks(\"Application not available\")\n",
    "        return\n",
    "\n",
    "\n",
    "# Driver Code\n",
    "if __name__ == \"__main__\":\n",
    "    assistant_speaks(\"What's your name, Human?\")\n",
    "    name = \"Human\"\n",
    "    name = get_audio()\n",
    "    assistant_speaks(\"Hello, \" + name + \".\")\n",
    "\n",
    "    while 1:\n",
    "\n",
    "        assistant_speaks(\"What can i do for you?\")\n",
    "        text = get_audio().lower()\n",
    "\n",
    "        if text == 0:\n",
    "            continue\n",
    "\n",
    "        if \"exit\" in str(text) or \"bye\" in str(text) or \"sleep\" in str(text):\n",
    "            assistant_speaks(\"Ok bye, \" + name + \".\")\n",
    "            break\n",
    "\n",
    "        # calling process text to process the query\n",
    "        process_text(text)\n"
   ]
  }
 ],
 "metadata": {
  "kernelspec": {
   "display_name": "Python 3",
   "language": "python",
   "name": "python3"
  },
  "language_info": {
   "codemirror_mode": {
    "name": "ipython",
    "version": 3
   },
   "file_extension": ".py",
   "mimetype": "text/x-python",
   "name": "python",
   "nbconvert_exporter": "python",
   "pygments_lexer": "ipython3",
   "version": "3.8.5"
  }
 },
 "nbformat": 4,
 "nbformat_minor": 4
}
